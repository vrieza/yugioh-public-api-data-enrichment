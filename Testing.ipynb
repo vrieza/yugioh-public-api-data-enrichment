{
 "cells": [
  {
   "cell_type": "code",
   "execution_count": 2,
   "id": "04ef0c77",
   "metadata": {
    "ExecuteTime": {
     "end_time": "2022-10-21T06:06:08.383382Z",
     "start_time": "2022-10-21T06:06:07.450345Z"
    }
   },
   "outputs": [],
   "source": [
    "import numpy as np\n",
    "import pandas as pd\n",
    "import requests\n",
    "import json"
   ]
  },
  {
   "cell_type": "code",
   "execution_count": 3,
   "id": "485ee317",
   "metadata": {
    "ExecuteTime": {
     "end_time": "2022-10-21T06:06:10.005898Z",
     "start_time": "2022-10-21T06:06:09.964979Z"
    }
   },
   "outputs": [],
   "source": [
    "card_list = pd.read_csv('yugioh.csv')"
   ]
  },
  {
   "cell_type": "code",
   "execution_count": 4,
   "id": "287a4d17",
   "metadata": {
    "ExecuteTime": {
     "end_time": "2022-10-21T06:06:10.868243Z",
     "start_time": "2022-10-21T06:06:10.847350Z"
    },
    "scrolled": false
   },
   "outputs": [
    {
     "data": {
      "text/html": [
       "<div>\n",
       "<style scoped>\n",
       "    .dataframe tbody tr th:only-of-type {\n",
       "        vertical-align: middle;\n",
       "    }\n",
       "\n",
       "    .dataframe tbody tr th {\n",
       "        vertical-align: top;\n",
       "    }\n",
       "\n",
       "    .dataframe thead th {\n",
       "        text-align: right;\n",
       "    }\n",
       "</style>\n",
       "<table border=\"1\" class=\"dataframe\">\n",
       "  <thead>\n",
       "    <tr style=\"text-align: right;\">\n",
       "      <th></th>\n",
       "      <th>card_name</th>\n",
       "    </tr>\n",
       "  </thead>\n",
       "  <tbody>\n",
       "    <tr>\n",
       "      <th>0</th>\n",
       "      <td>Tornado Dragon</td>\n",
       "    </tr>\n",
       "    <tr>\n",
       "      <th>1</th>\n",
       "      <td>Exodia the Forbidden One</td>\n",
       "    </tr>\n",
       "    <tr>\n",
       "      <th>2</th>\n",
       "      <td>Dark Magician</td>\n",
       "    </tr>\n",
       "    <tr>\n",
       "      <th>3</th>\n",
       "      <td>Kuriboh</td>\n",
       "    </tr>\n",
       "    <tr>\n",
       "      <th>4</th>\n",
       "      <td>Obelisk The Tormentor</td>\n",
       "    </tr>\n",
       "    <tr>\n",
       "      <th>5</th>\n",
       "      <td>Pot of Greed</td>\n",
       "    </tr>\n",
       "    <tr>\n",
       "      <th>6</th>\n",
       "      <td>Yami</td>\n",
       "    </tr>\n",
       "    <tr>\n",
       "      <th>7</th>\n",
       "      <td>Mystical Elf</td>\n",
       "    </tr>\n",
       "    <tr>\n",
       "      <th>8</th>\n",
       "      <td>Monster Reborn</td>\n",
       "    </tr>\n",
       "    <tr>\n",
       "      <th>9</th>\n",
       "      <td>Slifer the Sky Dragon</td>\n",
       "    </tr>\n",
       "  </tbody>\n",
       "</table>\n",
       "</div>"
      ],
      "text/plain": [
       "                  card_name\n",
       "0            Tornado Dragon\n",
       "1  Exodia the Forbidden One\n",
       "2             Dark Magician\n",
       "3                   Kuriboh\n",
       "4     Obelisk The Tormentor\n",
       "5              Pot of Greed\n",
       "6                      Yami\n",
       "7              Mystical Elf\n",
       "8            Monster Reborn\n",
       "9     Slifer the Sky Dragon"
      ]
     },
     "execution_count": 4,
     "metadata": {},
     "output_type": "execute_result"
    }
   ],
   "source": [
    "card_list"
   ]
  },
  {
   "cell_type": "code",
   "execution_count": 6,
   "id": "9555d16a",
   "metadata": {
    "ExecuteTime": {
     "end_time": "2022-10-21T06:06:58.760820Z",
     "start_time": "2022-10-21T06:06:58.750823Z"
    }
   },
   "outputs": [],
   "source": [
    "card_list = card_list.card_name.to_list()"
   ]
  },
  {
   "cell_type": "code",
   "execution_count": 8,
   "id": "e68b9570",
   "metadata": {
    "ExecuteTime": {
     "end_time": "2022-10-21T06:25:19.442933Z",
     "start_time": "2022-10-21T06:25:19.423937Z"
    },
    "scrolled": true
   },
   "outputs": [
    {
     "data": {
      "text/plain": [
       "['Tornado Dragon',\n",
       " 'Exodia the Forbidden One',\n",
       " 'Dark Magician',\n",
       " 'Kuriboh',\n",
       " 'Obelisk The Tormentor',\n",
       " 'Pot of Greed',\n",
       " 'Yami',\n",
       " 'Mystical Elf',\n",
       " 'Monster Reborn',\n",
       " 'Slifer the Sky Dragon']"
      ]
     },
     "execution_count": 8,
     "metadata": {},
     "output_type": "execute_result"
    }
   ],
   "source": [
    "card_list"
   ]
  },
  {
   "cell_type": "raw",
   "id": "d3d48295",
   "metadata": {},
   "source": [
    "Testing if data is available in Public API"
   ]
  },
  {
   "cell_type": "code",
   "execution_count": 9,
   "id": "0c0527e0",
   "metadata": {
    "ExecuteTime": {
     "end_time": "2022-10-21T06:28:16.838331Z",
     "start_time": "2022-10-21T06:28:16.003625Z"
    }
   },
   "outputs": [],
   "source": [
    "params = {'name': ['Tornado Dragon']}\n",
    "endpoint_get = 'https://db.ygoprodeck.com/api/v7/cardinfo.php'\n",
    "r = requests.get(endpoint_get, params = params)"
   ]
  },
  {
   "cell_type": "code",
   "execution_count": 11,
   "id": "74efb7ad",
   "metadata": {
    "ExecuteTime": {
     "end_time": "2022-10-21T06:28:33.701667Z",
     "start_time": "2022-10-21T06:28:33.678073Z"
    },
    "scrolled": true
   },
   "outputs": [
    {
     "name": "stdout",
     "output_type": "stream",
     "text": [
      "{'data': [{'id': 6983839, 'name': 'Tornado Dragon', 'type': 'XYZ Monster', 'desc': '2 Level 4 monsters\\nOnce per turn (Quick Effect): You can detach 1 material from this card, then target 1 Spell/Trap on the field; destroy it.', 'atk': 2100, 'def': 2000, 'level': 4, 'race': 'Wyrm', 'attribute': 'WIND', 'card_sets': [{'set_name': 'Battles of Legend: Relentless Revenge', 'set_code': 'BLRR-EN084', 'set_rarity': 'Secret Rare', 'set_rarity_code': '(ScR)', 'set_price': '4.65'}, {'set_name': 'Duel Devastator', 'set_code': 'DUDE-EN019', 'set_rarity': 'Ultra Rare', 'set_rarity_code': '(UR)', 'set_price': '1.58'}, {'set_name': 'Legendary Duelists: Synchro Storm', 'set_code': 'LED8-EN055', 'set_rarity': 'Common', 'set_rarity_code': '(C)', 'set_price': '0.96'}, {'set_name': 'Maximum Crisis', 'set_code': 'MACR-EN081', 'set_rarity': 'Secret Rare', 'set_rarity_code': '(ScR)', 'set_price': '4.49'}], 'card_images': [{'id': 6983839, 'image_url': 'https://images.ygoprodeck.com/images/cards/6983839.jpg', 'image_url_small': 'https://images.ygoprodeck.com/images/cards_small/6983839.jpg'}], 'card_prices': [{'cardmarket_price': '0.16', 'tcgplayer_price': '0.16', 'ebay_price': '1.90', 'amazon_price': '1.39', 'coolstuffinc_price': '0.79'}]}]}\n"
     ]
    }
   ],
   "source": [
    "print(r.json())"
   ]
  },
  {
   "cell_type": "code",
   "execution_count": null,
   "id": "0411667d",
   "metadata": {},
   "outputs": [],
   "source": [
    "# Mencoba commit and push to main branch"
   ]
  }
 ],
 "metadata": {
  "kernelspec": {
   "display_name": "Python 3 (ipykernel)",
   "language": "python",
   "name": "python3"
  },
  "language_info": {
   "codemirror_mode": {
    "name": "ipython",
    "version": 3
   },
   "file_extension": ".py",
   "mimetype": "text/x-python",
   "name": "python",
   "nbconvert_exporter": "python",
   "pygments_lexer": "ipython3",
   "version": "3.10.4"
  },
  "toc": {
   "base_numbering": 1,
   "nav_menu": {},
   "number_sections": true,
   "sideBar": true,
   "skip_h1_title": false,
   "title_cell": "Table of Contents",
   "title_sidebar": "Contents",
   "toc_cell": false,
   "toc_position": {},
   "toc_section_display": true,
   "toc_window_display": false
  },
  "varInspector": {
   "cols": {
    "lenName": 16,
    "lenType": 16,
    "lenVar": 40
   },
   "kernels_config": {
    "python": {
     "delete_cmd_postfix": "",
     "delete_cmd_prefix": "del ",
     "library": "var_list.py",
     "varRefreshCmd": "print(var_dic_list())"
    },
    "r": {
     "delete_cmd_postfix": ") ",
     "delete_cmd_prefix": "rm(",
     "library": "var_list.r",
     "varRefreshCmd": "cat(var_dic_list()) "
    }
   },
   "types_to_exclude": [
    "module",
    "function",
    "builtin_function_or_method",
    "instance",
    "_Feature"
   ],
   "window_display": false
  }
 },
 "nbformat": 4,
 "nbformat_minor": 5
}
